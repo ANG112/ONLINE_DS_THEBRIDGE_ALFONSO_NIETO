{
 "cells": [
  {
   "cell_type": "markdown",
   "metadata": {},
   "source": [
    "# Simulacro Rampup"
   ]
  },
  {
   "cell_type": "code",
   "execution_count": 2,
   "metadata": {},
   "outputs": [],
   "source": [
    "# Escribe tu nombre y apellidos (apellido si solo tienes uno) en las variables:\n",
    "nombre = \"Alfonso\" \n",
    "apellidos = \"Nieto García\""
   ]
  },
  {
   "cell_type": "code",
   "execution_count": 3,
   "metadata": {},
   "outputs": [
    {
     "name": "stdout",
     "output_type": "stream",
     "text": [
      "Bienvenido Alfonso Nieto García. Mucha suerte!\n"
     ]
    }
   ],
   "source": [
    "# Solo ejecutar\n",
    "nombre_apellidos = nombre + ' ' + apellidos\n",
    "print(\"Bienvenido\", nombre_apellidos + '. Mucha suerte!')"
   ]
  },
  {
   "cell_type": "markdown",
   "metadata": {},
   "source": [
    "### Ejercicio 1: Calculadoras (3 puntos)\n"
   ]
  },
  {
   "cell_type": "markdown",
   "metadata": {},
   "source": [
    "Construye un programa que:\n",
    "\n",
    "- Salude al usuario por su nombre\n",
    "- Le pregunte si quiere sumar, restar, multiplicar o dividir\n",
    "- Pida que introduzca 2 números de manera sucesiva\n",
    "- Devuelva el resultado de manera formal con un mensaje apropiado \n",
    "\n",
    "**Ayuda**: No se puede dividir por 0"
   ]
  },
  {
   "cell_type": "code",
   "execution_count": 29,
   "metadata": {},
   "outputs": [
    {
     "name": "stdout",
     "output_type": "stream",
     "text": [
      "Hola!!!. ¿Qué te gustaría hacer?: sumar, restar, multiplicar o dividirdividir\n",
      "Introduce dos números de manera sucesiva5,4\n",
      "La división es {1.25}\n"
     ]
    }
   ],
   "source": [
    "# pido los datos al usuario\n",
    "\n",
    "acción = input(\"Hola!!!. ¿Qué te gustaría hacer?: sumar, restar, multiplicar o dividir\")\n",
    "\n",
    "num = 0\n",
    "\n",
    "num = (input(\"Introduce dos números de manera sucesiva\"))\n",
    "\n",
    "\n",
    "if acción.lower()== \"sumar\":\n",
    "    resultado = int(num[0]) + int(num[2])\n",
    "    print(\"La suma es\", {resultado})\n",
    "\n",
    "elif acción.lower()== \"restar\":\n",
    "    resultado = int(num[0]) - int(num[2])\n",
    "    print(\"La resta es\", {resultado})\n",
    "\n",
    "\n",
    "elif acción.lower()== \"dividir\":\n",
    "    if int(num[2]) == 0:\n",
    "        print(\"Lo siento, no se puede dividir entre 0\")\n",
    "    else:\n",
    "        resultado = int(num[0]) / int(num[2])\n",
    "        print(\"La división es\", {resultado})\n",
    "\n",
    "else:\n",
    "    resultado = int(num[0]) * int(num[2])\n",
    "    print(\"La multiplicación es\", {resultado})\n",
    "\n",
    "   \n",
    "\n",
    "          "
   ]
  },
  {
   "cell_type": "markdown",
   "metadata": {},
   "source": [
    "Construye una calculadora que sea como la anterior pero:\n",
    "\n",
    "- Acepte tantos valores de entrada como queramos\n",
    "- Devuelva mensajes con las cuentas que se van haciendo.\n",
    "- Permita salir con una palabra clave (exit, quit, ...)"
   ]
  },
  {
   "cell_type": "code",
   "execution_count": 75,
   "metadata": {},
   "outputs": [
    {
     "name": "stdout",
     "output_type": "stream",
     "text": [
      "Hola!!!. ¿Qué operación quieres realizar: sumar, restar, multiplicar o dividir: \n",
      "dividir\n",
      "Introduce los números que quieras operar separados por comas: \n",
      "1,0,5,7\n",
      "Lo siento, no se puede dividir entre 0\n"
     ]
    }
   ],
   "source": [
    "# Pido datos al usuario\n",
    "operacion = input(\"Hola!!!. ¿Qué operación quieres realizar: sumar, restar, multiplicar o dividir: \\n\")\n",
    "numero = input(\"Introduce los números que quieras operar separados por comas: \\n\")\n",
    "\n",
    "# Transformo números de str a lista de float\n",
    "numero_prov = numero.split(\",\")\n",
    "numero_calculo = []\n",
    "\n",
    "for n in numero_prov:\n",
    "    numero_calculo.append(float(n))\n",
    "\n",
    "# Realizo los if para seleccionar la operación a ejecutar en fundión de la respuesta del usuario    \n",
    "resultado = 0  \n",
    "if operacion.lower()== \"sumar\":\n",
    "    for n in numero_calculo:\n",
    "        resultado += n\n",
    "    print(\"La suma es\", {resultado})\n",
    "\n",
    "elif operacion.lower()== \"restar\":\n",
    "    for n in numero_calculo:\n",
    "        resultado -= n\n",
    "    print(\"La resta es\", {resultado})\n",
    "\n",
    "elif operacion.lower()== \"dividir\":\n",
    "    if 0 in numero_calculo[1:]:\n",
    "        print(\"Lo siento, no se puede dividir entre 0\")\n",
    "    else:\n",
    "        for n in numero_calculo:\n",
    "            resultado /= n\n",
    "        print(\"La división es\", {resultado})\n",
    "\n",
    "else:\n",
    "    for n in numero_calculo:\n",
    "        resultado *= n\n",
    "    print(\"La multiplicación es\", {resultado})\n",
    "\n",
    "\n",
    "    \n",
    "    "
   ]
  },
  {
   "cell_type": "markdown",
   "metadata": {},
   "source": [
    "### Ejercicio 2 (4 puntos)\n",
    "\n",
    "Escribe un programa que trabaje con 3 listas:\n",
    "\n",
    "La lista ***grupo_musical*** contiene strings.\n",
    "\n",
    "La lista ***generos*** contiene strings.\n",
    "\n",
    "La lista ***anios*** puede contener un entero o tuplas.\n",
    "\n",
    "Ejemplo de datos:\n",
    "\n",
    ">\"ABBA\"\n",
    ">\n",
    ">\"pop\"\n",
    ">\n",
    ">(1972, 1982)\n",
    "\n",
    "Otro ejemplo:\n",
    "\n",
    ">\"Madonna\"\n",
    ">\n",
    ">\"pop\"\n",
    ">\n",
    ">1983\n",
    "\n",
    "Otro ejemplo:\n",
    "\n",
    ">\"Kölsch\"\n",
    ">\n",
    ">\"electronica\"\n",
    ">\n",
    ">1995\n",
    "\n",
    "Un grupo musical solo puede tener un género musical.\n",
    "Un grupo musical debe tener como mínimo un año de formación, que es un entero.\n",
    "Un grupo musical, si tuviese año de disolución, la información se guardaría en una tupla.\n",
    "\n",
    "Se pide implementar:\n",
    "\n",
    "a. Una función llamada *inserta* que acepte 4 parámetros (grupo, genero, comienzo, fin). El fin por defecto debe ser un objeto nulo. El grupo se inserta en la lista de grupos. El genero se inserta en la lista de géneros. El comienzo o comienzo y fin se inserta en la lista de años. La función no tiene valor retornado.\n",
    "\n",
    "b. Una función *busca_genero* con un parámetro de tipo string (genero) y devuelve una lista con todos los grupos de ese género.\n",
    "\n",
    "c. Una función *busca_grupos* con un parámetro booleano llamado *activos* con un valor por defecto verdadero. Cuando el valor es verdadero, devuelve solo los grupos activos en una lista. Cuando *activos* es falso, devuelve todos los grupos disueltos en una lista.\n",
    "\n",
    "d. Una función *busca_genero_indice* con un parámetro de tipo string (genero) que devuelve una lista con los índices donde se encuentra ese género.\n",
    "\n",
    "e. Una función *filtra_listas_genero* con un parámetro de tipo string (genero) que devuelve una tupla con las 3 listas filtradas y ***llame*** a busca_genero_indice\n",
    "\n",
    "f. Una función *anios_activos* que no tenga parámetros de entrada ni valor retornado que imprima línea a línea la información: grupo musical ---> años activos. Es decir: \n",
    "\n",
    ">ABBA ---> 10 años activos\n",
    ">\n",
    ">Madonna --> 40 años activos\n",
    ">\n",
    ">Kölsch --> 25 años activos\n",
    "\n",
    "\n",
    "Nota: si no te sale un apartado después de un tiempo prudencial, ¡pasa al siguiente!"
   ]
  },
  {
   "cell_type": "code",
   "execution_count": null,
   "metadata": {},
   "outputs": [],
   "source": [
    "# Creo las listas:\n",
    "grupo_musical = [] # str\n",
    "generos = [] # str\n",
    "anios = [] #int o tupla\n",
    "\n",
    "def inserta(grupo,genero,comienzo, fin = 0):\n",
    "    grupo_musical.append(grupo)\n",
    "    generos.append(genero)\n",
    "    comienzo.append(comienzo)\n",
    "    if fin !=0:\n",
    "        comienzo.extend((comienzo,fin))\n",
    "\n",
    "def busca_genero(genero):\n",
    "    indices = 0\n",
    "    if indice,genero in enumerate(generos):\n",
    "        indices.append(indice)\n",
    "        print(f\"Los grupos musicales del\", genero,\"son\", grupo_musical[indice])\n",
    "\n",
    "def busca_grupos(activos = True):\n",
    "    ind_grupos_activos = []\n",
    "    if activos == True:\n",
    "        for indice,a in enumerate(anios):\n",
    "            if isinstance(a,tuple):\n",
    "                pass\n",
    "            else:\n",
    "                ind_grupos_activos.append(indice)\n",
    "    \n",
    "    grupos_activo_list= []            \n",
    "    for indice,grupos in ind_grupos_activos,grupos_activos:\n",
    "        grupos_activos_lista.append(grupo_musical[ind_grupos_activos])\n",
    "    print(grupos_activo_list)\n",
    "        \n",
    "            \n",
    "    \n",
    "def busca_genero_indice(genero):\n",
    "    if indice,genero in enumerate(generos):\n",
    "        print(f\"Se encuentran en los indices: \\n\", indice)\n",
    "        \n",
    "def filtra_listas_genero(genero):\n",
    "    busca_genero_indice(genero)\n",
    "    resultado_genero = ()\n",
    "    for ind in indices:\n",
    "        resultado_genero =(grupo_musical[indice],genero[indice],anios[indice])\n",
    "    print(\"Los grupos son:\",resultado_genero)\n",
    "\n",
    "def anios_activos():\n",
    "    a_activos = []\n",
    "    for indice,a in enumerate(anios):\n",
    "        if isinstance(a,tuple):\n",
    "            a_prov = 2024-anios[indice][0]\n",
    "            a_activos.append(a_prov)\n",
    "        else:\n",
    "            a_activos.append(a)\n",
    "    for grupo, anio in grupo_musical, a_activos:\n",
    "        print(grupo_musical, \"------->\", a_activos)\n",
    "        \n",
    "    "
   ]
  },
  {
   "cell_type": "markdown",
   "metadata": {},
   "source": [
    "### Ejercicio 3 (3 puntos)\n",
    "\n",
    "#### Crear un programa que calcule la cuota de una hipoteca\n",
    "\n",
    "Las cuotas hipotecarias se calculan utilizando la fórmula del interés francés. \n",
    "\n",
    "La fórmula del interés francés es la siguiente:\n",
    "\\begin{align*}\n",
    "C=V \\frac{(1+i)^n i}{(1+i)^n -1}\n",
    "\\end{align*}\n",
    "\n",
    "\n",
    "    C = cuota a pagar (mensual)\n",
    "    V = volumen del préstamo hipotecario\n",
    "    i = tipo de interés del período (mensual)\n",
    "    n = número de cuotas (mensuales)\n",
    "\n"
   ]
  },
  {
   "cell_type": "markdown",
   "metadata": {},
   "source": [
    "1. Crea un programa que solicite al usuario los datos de su hipoteca mediante input() los datos (volumen, interés **anual**, y plazo en **años**) y le devuelva la cuota **mensual** a pagar. No es necesario encapsularlo en funciones. (0.4)"
   ]
  },
  {
   "cell_type": "code",
   "execution_count": 85,
   "metadata": {},
   "outputs": [
    {
     "name": "stdout",
     "output_type": "stream",
     "text": [
      "Saludos. Voy a necesitar unos datos para calcular su hipoteca\n",
      "Cantidad económica del préstamo hipotecario: \n",
      "250000\n",
      "Interés anual actual en número decimal: \n",
      "0.025\n",
      "Número de cuotas pendientes: \n",
      "360\n",
      "6250.861684633416\n"
     ]
    }
   ],
   "source": [
    "print(\"Saludos. Voy a necesitar unos datos para calcular su hipoteca\")\n",
    "volumen = float(input(\"Cantidad económica del préstamo hipotecario: \\n\"))\n",
    "interes_anual = float(input(\"Interés anual actual en número decimal: \\n\"))\n",
    "cuotas = float(input(\"Número de cuotas pendientes: \\n\"))\n",
    "\n",
    "cuota__men = volumen *((((1+interes_anual)**cuotas)*interes_anual))/(((1+interes_anual)**cuotas)-1)\n",
    "\n",
    "\n",
    "print(cuota_men)"
   ]
  },
  {
   "cell_type": "markdown",
   "metadata": {},
   "source": [
    "2. Crea una función `calcular_hip` que realiza el cálculo y cuyos argumentos de entrada sean `volumen`, `interes_anual` y `años`, devolviendo la couta mensual(float). El argumento de `años` deberá de tener un valor por defecto de 30. Documenta la función con el estilo de Google.  (0.4)"
   ]
  },
  {
   "cell_type": "code",
   "execution_count": 91,
   "metadata": {},
   "outputs": [
    {
     "name": "stdout",
     "output_type": "stream",
     "text": [
      "6250.000118767317\n"
     ]
    }
   ],
   "source": [
    "\n",
    "def calcular_hip(volumen,interes_anual,anios = 60):\n",
    "    cuota_men = 0\n",
    "    cuota_men = volumen *((((1+interes_anual)**(anios*12)*interes_anual))/(((1+interes_anual)**(anios*12))-1))\n",
    "    print(cuota_men)\n",
    "\n",
    "calcular_hip(250000,0.025)\n",
    "\n",
    "\n"
   ]
  },
  {
   "cell_type": "markdown",
   "metadata": {},
   "source": [
    "**Copiado de chatgpt**  \n",
    "Este código calcula la cuota mensual de una hipoteca utilizando el método de amortización francés. La fórmula se basa en la siguiente lógica:\n",
    "\n",
    "- La cuota mensual es una cantidad constante que se paga al prestamista cada mes durante la vida del préstamo.\n",
    "- La cuota mensual se calcula de forma que el saldo del préstamo se amortice al final del plazo del préstamo.\n",
    "- El cálculo de la cuota mensual tiene en cuenta el importe del préstamo, el tipo de interés, el plazo del préstamo y el método de amortización."
   ]
  },
  {
   "cell_type": "markdown",
   "metadata": {},
   "source": [
    "3. Calcula la cuota y guárdala en la variable `res_cuota` si la cantidad de la hipoteca son 350000 euros, el interés anual es del 5% y la quiere pagar en 20 años a partir de la función `calcular_hip`. (0.4)\n",
    "\n"
   ]
  },
  {
   "cell_type": "code",
   "execution_count": 92,
   "metadata": {},
   "outputs": [
    {
     "name": "stdout",
     "output_type": "stream",
     "text": [
      "17500.14375065735\n",
      "None\n"
     ]
    }
   ],
   "source": [
    "res_cuota = calcular_hip(350000,0.05,anios = 20)\n",
    "print(res_cuota)"
   ]
  },
  {
   "cell_type": "markdown",
   "metadata": {},
   "source": [
    "4. Crea una función `gasto_vivienda`, con dos argumentos de entrada `ingreso` y `lista_hip`. Esta lista tendrá los 3 valores de los argumentos de entrada de `calcular_hip`, llamando a esta función desde dentro de `gasto_vivienda`. Tiene que devolver el valor del porcentaje de gasto en la hipoteca respecto a los ingresos. (Entre 0 y 1, es decir 0.5 si es del 50%) Documenta la función. (0.4)"
   ]
  },
  {
   "cell_type": "code",
   "execution_count": 106,
   "metadata": {},
   "outputs": [],
   "source": [
    "def gasto_vivienda(ingreso,lista_hip):\n",
    "    gastos = calcular_hip(volumen,interes_anual_anios)\n",
    "    lista_hip= []\n",
    "    volumen,interes_anual,anios = lista_hip\n",
    "    porc_gasto = (gastos/ingreso)\n",
    "    return porc_gasto\n"
   ]
  },
  {
   "cell_type": "markdown",
   "metadata": {},
   "source": [
    "5. Calcula el porcentaje de gasto en la hipoteca si el ingreso es de 1700 euros y guárdalo en la variable `res_porcentaje` a partir de la función `gasto_vivienda`. (0.4)\n"
   ]
  },
  {
   "cell_type": "code",
   "execution_count": 107,
   "metadata": {},
   "outputs": [
    {
     "ename": "SyntaxError",
     "evalue": "invalid syntax. Maybe you meant '==' or ':=' instead of '='? (2538450446.py, line 1)",
     "output_type": "error",
     "traceback": [
      "\u001b[1;36m  Cell \u001b[1;32mIn[107], line 1\u001b[1;36m\u001b[0m\n\u001b[1;33m    res_porcentaje = gasto_vivienda(1700,(350000,0.05,anios=40))\u001b[0m\n\u001b[1;37m                                                      ^\u001b[0m\n\u001b[1;31mSyntaxError\u001b[0m\u001b[1;31m:\u001b[0m invalid syntax. Maybe you meant '==' or ':=' instead of '='?\n"
     ]
    }
   ],
   "source": [
    "res_porcentaje = gasto_vivienda(1700,(350000,0.05,anios=40))\n",
    "print(round(res_porcentaje,1)"
   ]
  }
 ],
 "metadata": {
  "kernelspec": {
   "display_name": "Python 3 (ipykernel)",
   "language": "python",
   "name": "python3"
  },
  "language_info": {
   "codemirror_mode": {
    "name": "ipython",
    "version": 3
   },
   "file_extension": ".py",
   "mimetype": "text/x-python",
   "name": "python",
   "nbconvert_exporter": "python",
   "pygments_lexer": "ipython3",
   "version": "3.10.10"
  },
  "toc": {
   "base_numbering": 1,
   "nav_menu": {},
   "number_sections": true,
   "sideBar": true,
   "skip_h1_title": false,
   "title_cell": "Table of Contents",
   "title_sidebar": "Contents",
   "toc_cell": false,
   "toc_position": {},
   "toc_section_display": true,
   "toc_window_display": false
  },
  "varInspector": {
   "cols": {
    "lenName": 16,
    "lenType": 16,
    "lenVar": 40
   },
   "kernels_config": {
    "python": {
     "delete_cmd_postfix": "",
     "delete_cmd_prefix": "del ",
     "library": "var_list.py",
     "varRefreshCmd": "print(var_dic_list())"
    },
    "r": {
     "delete_cmd_postfix": ") ",
     "delete_cmd_prefix": "rm(",
     "library": "var_list.r",
     "varRefreshCmd": "cat(var_dic_list()) "
    }
   },
   "types_to_exclude": [
    "module",
    "function",
    "builtin_function_or_method",
    "instance",
    "_Feature"
   ],
   "window_display": false
  },
  "vscode": {
   "interpreter": {
    "hash": "90139cb9a825bf3d63f6f6704e828dbd1ff7edbd4d0c6e906a71235d6efc74af"
   }
  }
 },
 "nbformat": 4,
 "nbformat_minor": 4
}
